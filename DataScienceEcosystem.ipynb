{
  "metadata": {
    "kernelspec": {
      "name": "python",
      "display_name": "Python (Pyodide)",
      "language": "python"
    },
    "language_info": {
      "codemirror_mode": {
        "name": "python",
        "version": 3
      },
      "file_extension": ".py",
      "mimetype": "text/x-python",
      "name": "python",
      "nbconvert_exporter": "python",
      "pygments_lexer": "ipython3",
      "version": "3.8"
    }
  },
  "nbformat_minor": 4,
  "nbformat": 4,
  "cells": [
    {
      "cell_type": "markdown",
      "source": "# Data Science Tools and Ecosystem\n## In this notebook, Data Science Tools and Ecosystem are summarized.",
      "metadata": {}
    },
    {
      "cell_type": "markdown",
      "source": "- Some of the popular languages that Data Scientists use are:\n  * Python\n  * R\n  * SQL",
      "metadata": {}
    },
    {
      "cell_type": "markdown",
      "source": "- Some of the commonly used libraries used by Data Scientists include:\n  * Pandas\n  * NumPy\n  * Matplotlib\n  * Seaborn",
      "metadata": {}
    },
    {
      "cell_type": "markdown",
      "source": "# Data Science Tools",
      "metadata": {}
    },
    {
      "cell_type": "markdown",
      "source": "| Management Tools | Integration and Transformation Tools | Visualization Tools | Model Monitoring Tools | Code Asset Mangemaent Tools | Asset Management Tools |\n|------------------|-------------------------------------|--------------------|----------------------------|------------------|------------------|\n| MySQL | Apache AirFlow | Pixie Dust |  ModelDB | Git | Apache Atlas |\n| PostgreSQL | KubeFlow | Kibana | Prometheus | GitHub | ODPi Egeria |\n|MongoDB | Apache Kafka | Kubernetes |  IBM AI Fairness 360 | GitLab | Bitbucket |\n| Hadoop | SparkSQL | Apache Superset | Redhat OpenShift | IBM AI Explainability 360 | Kylo |",
      "metadata": {}
    },
    {
      "cell_type": "markdown",
      "source": "# Below are a few examples of evaluating arithmetic expressions in Python",
      "metadata": {}
    },
    {
      "cell_type": "code",
      "source": "# This a simple arithmetic expression to mutiply then add integers\n(3*4)+5",
      "metadata": {
        "trusted": true
      },
      "outputs": [
        {
          "execution_count": 1,
          "output_type": "execute_result",
          "data": {
            "text/plain": "17"
          },
          "metadata": {}
        }
      ],
      "execution_count": 1
    },
    {
      "cell_type": "code",
      "source": "# This will convert 200 minutes to hours by diving by 60\ntime=200 \nhours=time/60\nprint (hours)\n",
      "metadata": {
        "trusted": true
      },
      "outputs": [
        {
          "name": "stdout",
          "text": "3.3333333333333335\n",
          "output_type": "stream"
        }
      ],
      "execution_count": 2
    },
    {
      "cell_type": "markdown",
      "source": "# Objectives List:\n1. Create a Jupyter Notebook with markdown and code cells\n2. List examples of languages, libraries and tools used in Data Science\n3. Share your Jupyter Notebook publicly on GitHub\n4. Evaluate notebooks submitted by your peers using the provided rubric\n5. Demonstrate proficiency in Data Science toolkit knowledge",
      "metadata": {}
    },
    {
      "cell_type": "markdown",
      "source": "# Author\n## Nabeel Bashir\nAuthor",
      "metadata": {}
    },
    {
      "cell_type": "code",
      "source": "",
      "metadata": {
        "trusted": true
      },
      "outputs": [],
      "execution_count": null
    }
  ]
}